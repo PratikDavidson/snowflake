{
 "cells": [
  {
   "cell_type": "code",
   "execution_count": null,
   "id": "3775908f-ca36-4846-8f38-5adca39217f2",
   "metadata": {
    "language": "python",
    "name": "cell1"
   },
   "outputs": [],
   "source": [
    "# Import python packages\n",
    "import pandas as pd\n",
    "import matplotlib.pyplot as plt\n",
    "import seaborn as sns\n",
    "\n",
    "# We can also use Snowpark for our analyses!\n",
    "from snowflake.snowpark.context import get_active_session\n",
    "from snowflake.snowpark.version import VERSION\n",
    "import snowflake.snowpark.functions as F\n",
    "session = get_active_session()\n"
   ]
  },
  {
   "cell_type": "code",
   "execution_count": null,
   "id": "7a36097b-9e6b-42e2-91e7-816c3747bb5a",
   "metadata": {
    "codeCollapsed": false,
    "language": "python",
    "name": "cell2"
   },
   "outputs": [],
   "source": [
    "session.sql_simplifier_enabled = True\n",
    "\n",
    "snowflake_environment = session.sql('SELECT current_user(), current_version()').collect()\n",
    "snowpark_version = VERSION\n",
    "\n",
    "# Current Environment Details\n",
    "print('\\nConnection Established with the following parameters:')\n",
    "print('User                        : {}'.format(snowflake_environment[0][0]))\n",
    "print('Role                        : {}'.format(session.get_current_role()))\n",
    "print('Database                    : {}'.format(session.get_current_database()))\n",
    "print('Schema                      : {}'.format(session.get_current_schema()))\n",
    "print('Warehouse                   : {}'.format(session.get_current_warehouse()))\n",
    "print('Snowflake version           : {}'.format(snowflake_environment[0][1]))\n",
    "print('Snowpark for Python version : {}.{}.{}'.format(snowpark_version[0],snowpark_version[1],snowpark_version[2]))"
   ]
  },
  {
   "cell_type": "code",
   "execution_count": null,
   "id": "48ac1cf1-32a2-4c3a-80bc-1210d725b272",
   "metadata": {
    "codeCollapsed": false,
    "language": "python",
    "name": "cell3"
   },
   "outputs": [],
   "source": [
    "# Show the file before loading\n",
    "session.sql(\"LS @DAILY_DELHI_CLIMATE_ASSETS;\").show()\n",
    "\n",
    "# Create a Snowpark DataFrame that is configured to load data from the CSV file\n",
    "# We can now infer schema from CSV files.\n",
    "train_df = session.read.options({\"field_delimiter\": \",\",\n",
    "                                    \"field_optionally_enclosed_by\": '\"',\n",
    "                                    \"infer_schema\": True,\n",
    "                                    \"parse_header\": True}).csv(\"@DAILY_DELHI_CLIMATE_ASSETS/DailyDelhiClimateTrain.csv.gz\")\n",
    "\n",
    "test_df = session.read.options({\"field_delimiter\": \",\",\n",
    "                                    \"field_optionally_enclosed_by\": '\"',\n",
    "                                    \"infer_schema\": True,\n",
    "                                    \"parse_header\": True}).csv(\"@DAILY_DELHI_CLIMATE_ASSETS/DailyDelhiClimateTest.csv.gz\")"
   ]
  },
  {
   "cell_type": "code",
   "execution_count": null,
   "id": "48d75973-71bf-4281-8fa4-d23d7fde7792",
   "metadata": {
    "codeCollapsed": false,
    "language": "python",
    "name": "cell11"
   },
   "outputs": [],
   "source": [
    "# Tables need column names to be in upper case\n",
    "for colname in train_df.columns:\n",
    "    new_colname = str.upper(colname)\n",
    "    train_df = train_df.with_column_renamed(colname, new_colname)\n",
    "    test_df = test_df.with_column_renamed(colname, new_colname)\n",
    "\n",
    "train_df.columns"
   ]
  },
  {
   "cell_type": "code",
   "execution_count": null,
   "id": "2986d3cc-5c23-42d2-9739-2f7d62a52da7",
   "metadata": {
    "codeCollapsed": false,
    "language": "python",
    "name": "cell12"
   },
   "outputs": [],
   "source": [
    "# Remove extra unwanted data\n",
    "train_df = train_df.filter(F.col(\"DATE\") != '2017-01-01')"
   ]
  },
  {
   "cell_type": "code",
   "execution_count": null,
   "id": "d4c18c43-ab12-4d2f-a469-f3b72041f7c7",
   "metadata": {
    "codeCollapsed": false,
    "language": "python",
    "name": "cell4"
   },
   "outputs": [],
   "source": [
    "# Load data to tables\n",
    "train_df.write.mode('overwrite').save_as_table('train_data')\n",
    "test_df.write.mode('overwrite').save_as_table('test_data')"
   ]
  },
  {
   "cell_type": "markdown",
   "id": "f2cc0799-70a7-49f9-863d-3cf413af7c19",
   "metadata": {
    "collapsed": false,
    "name": "cell13"
   },
   "source": [
    "# Execute the below cells after training and predicting from Cortex ML or using cortex_ml_forecast.sql"
   ]
  },
  {
   "cell_type": "code",
   "execution_count": null,
   "id": "b245c5d6-4134-4e64-b75f-db35d7e29a61",
   "metadata": {
    "codeCollapsed": false,
    "language": "python",
    "name": "cell5"
   },
   "outputs": [],
   "source": [
    "train_tbl = f\"{session.get_current_database()}.{session.get_current_schema()}.TRAIN_DATA\"\n",
    "test_tbl = f\"{session.get_current_database()}.{session.get_current_schema()}.TEST_DATA\"\n",
    "forecast_tbl = f\"{session.get_current_database()}.{session.get_current_schema()}.MEAN_TEMP_FORECAST\""
   ]
  },
  {
   "cell_type": "code",
   "execution_count": null,
   "id": "138fff6c-f216-433b-80d2-2c8d8cb95083",
   "metadata": {
    "codeCollapsed": false,
    "language": "python",
    "name": "cell6"
   },
   "outputs": [],
   "source": [
    "# Load data from tables as pandas dataframe\n",
    "train_pdf = session.table(train_tbl).to_pandas()\n",
    "test_pdf = session.table(test_tbl).to_pandas()\n",
    "forecast_pdf = session.table(forecast_tbl).to_pandas()"
   ]
  },
  {
   "cell_type": "code",
   "execution_count": null,
   "id": "4f020910-e5d8-4d05-a346-d93e08de5820",
   "metadata": {
    "codeCollapsed": false,
    "language": "python",
    "name": "cell10"
   },
   "outputs": [],
   "source": [
    "# Excluded the time from datetime data format\n",
    "forecast_pdf['TS'] = forecast_pdf['TS'].dt.date"
   ]
  },
  {
   "cell_type": "code",
   "execution_count": null,
   "id": "12b38e5b-7546-4475-80b0-33d9913d7b22",
   "metadata": {
    "codeCollapsed": false,
    "language": "python",
    "name": "cell8"
   },
   "outputs": [],
   "source": [
    "# Plot line graph to visualize the predicted data against the test data\n",
    "plt.figure(figsize=(15, 15))\n",
    "sns.lineplot(data=train_pdf, x='DATE', y='MEANTEMP', label='train')\n",
    "sns.lineplot(data=test_pdf, x='DATE', y='MEANTEMP', label='test')\n",
    "sns.lineplot(data=forecast_pdf, x='TS', y='FORECAST', label='forecast')"
   ]
  },
  {
   "cell_type": "code",
   "execution_count": null,
   "id": "d6e3b156-4c07-4b8e-957c-7c29c8b1f607",
   "metadata": {
    "codeCollapsed": false,
    "language": "python",
    "name": "cell7"
   },
   "outputs": [],
   "source": []
  }
 ],
 "metadata": {
  "kernelspec": {
   "display_name": "Streamlit Notebook",
   "name": "streamlit"
  }
 },
 "nbformat": 4,
 "nbformat_minor": 5
}
